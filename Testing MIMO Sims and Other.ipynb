{
 "cells": [
  {
   "cell_type": "code",
   "execution_count": 9,
   "id": "satisfied-tuning",
   "metadata": {},
   "outputs": [],
   "source": [
    "import numpy as np\n",
    "import matplotlib.pyplot as plt\n",
    "import scipy as sc\n",
    "from scipy import linalg\n"
   ]
  },
  {
   "cell_type": "code",
   "execution_count": 10,
   "id": "saving-trader",
   "metadata": {},
   "outputs": [
    {
     "name": "stdout",
     "output_type": "stream",
     "text": [
      "[[1.17+2.1j  1.07+0.86j 1.68+0.51j 0.78+0.65j 1.04+2.5j  1.49+1.47j\n",
      "  0.28+1.4j  0.07+0.54j]\n",
      " [0.57+0.97j 1.92+1.47j 1.78+1.78j 2.28+1.22j 1.82+0.99j 0.78+1.62j\n",
      "  0.2 +1.75j 1.43+1.47j]\n",
      " [0.94+0.65j 0.88+2.3j  0.74+1.66j 0.33+0.43j 1.42+1.23j 0.93+0.91j\n",
      "  1.35+1.03j 0.4 +1.69j]\n",
      " [1.09+1.66j 0.29+1.62j 2.32+1.89j 0.53+1.46j 1.66+0.8j  1.91+0.58j\n",
      "  1.29+1.4j  1.61+0.77j]]\n"
     ]
    }
   ],
   "source": [
    "def Channel_Rayleigh(no_users, no_transmit, rayleigh_scale=None):\n",
    "    \"\"\"Returns a random, complex Rayleigh fading wireles channel \n",
    "    matrix of size (no_users, no_transmit). \n",
    "    \n",
    "    'no_users = NK and no_transmit = NM'\n",
    "    \n",
    "    TODO: include seed option, to return same matrix for testing.\"\"\"\n",
    "    \n",
    "    if rayleigh_scale is None:\n",
    "        rayleigh_scale = 1\n",
    "    else:\n",
    "        None\n",
    "    \n",
    "    re_H = np.random.rayleigh(rayleigh_scale, (no_users, no_transmit))\n",
    "    im_H = np.random.rayleigh(rayleigh_scale, (no_users, no_transmit))\n",
    "    \n",
    "    H = re_H + im_H*1J\n",
    "    \n",
    "    return H\n",
    "\n",
    "H = Channel_Rayleigh(4,8)\n",
    "\n",
    "print(np.around(H,decimals=2))"
   ]
  },
  {
   "cell_type": "code",
   "execution_count": 21,
   "id": "seven-corner",
   "metadata": {},
   "outputs": [
    {
     "name": "stdout",
     "output_type": "stream",
     "text": [
      "[[ 0.16-0.j   -0.06+0.04j -0.02-0.09j -0.06+0.01j]\n",
      " [-0.06-0.04j  0.15-0.j   -0.08+0.07j -0.03-0.01j]\n",
      " [-0.02+0.09j -0.08-0.07j  0.27-0.j   -0.1 -0.03j]\n",
      " [-0.06-0.01j -0.03+0.01j -0.1 +0.03j  0.17+0.j  ]] \n",
      "\n",
      "[[ 0.06-0.12j -0.03+0.07j  0.02+0.08j  0.01-0.09j]\n",
      " [ 0.13+0.09j  0.04+0.03j  0.12-0.27j -0.23+0.01j]\n",
      " [ 0.06+0.13j -0.03-0.02j -0.06-0.05j  0.11-0.09j]\n",
      " [-0.09-0.j    0.28-0.06j -0.08+0.26j -0.07-0.16j]\n",
      " [-0.01-0.24j  0.07+0.08j -0.07-0.03j  0.02+0.1j ]\n",
      " [ 0.07-0.06j -0.1 -0.05j -0.02-0.05j  0.1 +0.11j]\n",
      " [-0.06+0.08j -0.13-0.13j  0.26+0.06j  0.03-0.04j]\n",
      " [-0.1 +0.04j  0.05-0.04j -0.08-0.11j  0.13+0.08j]] \n",
      "\n",
      "[[-0.46-0.j    0.7 -0.j   -0.36-0.j    0.41+0.j  ]\n",
      " [-0.56+0.06j -0.25+0.44j -0.13+0.52j -0.32-0.23j]\n",
      " [-0.43-0.02j -0.29-0.39j  0.03+0.1j   0.04+0.75j]\n",
      " [-0.53+0.08j -0.07-0.11j  0.37-0.66j -0.15-0.31j]] \n",
      " [[9.98 0.   0.   0.   0.   0.   0.   0.  ]\n",
      " [0.   2.85 0.   0.   0.   0.   0.   0.  ]\n",
      " [0.   0.   2.24 0.   0.   0.   0.   0.  ]\n",
      " [0.   0.   0.   1.54 0.   0.   0.   0.  ]] \n",
      " [[-0.17-0.28j -0.19-0.32j -0.31-0.32j -0.19-0.21j -0.29-0.29j -0.24-0.25j\n",
      "  -0.13-0.29j -0.17-0.24j]\n",
      " [ 0.11+0.41j -0.15-0.35j  0.1 -0.33j  0.02-0.31j -0.13+0.37j  0.26+0.2j\n",
      "  -0.04+0.26j -0.22-0.29j]\n",
      " [-0.27+0.04j -0.27-0.32j -0.06+0.39j -0.3 -0.31j  0.06-0.3j   0.28+0.12j\n",
      "   0.21+0.19j  0.36+0.11j]\n",
      " [-0.05+0.06j  0.45-0.25j  0.03+0.01j -0.57+0.08j  0.07+0.33j  0.16+0.07j\n",
      "  -0.1 -0.46j  0.03+0.16j]\n",
      " [-0.55+0.25j -0.18+0.11j  0.19-0.15j  0.05-0.12j  0.6 +0.01j -0.22+0.02j\n",
      "   0.1 -0.24j -0.19-0.05j]\n",
      " [-0.4 -0.08j  0.04+0.21j -0.24-0.11j  0.26+0.13j -0.12-0.06j  0.76-0.06j\n",
      "  -0.09-0.14j -0.15+0.02j]\n",
      " [-0.1 +0.3j   0.18-0.22j -0.47-0.1j   0.12+0.4j  -0.06+0.j   -0.14+0.04j\n",
      "   0.61+0.03j  0.08-0.11j]\n",
      " [ 0.02+0.06j -0.24+0.21j -0.23-0.34j  0.09-0.16j -0.02+0.31j -0.04+0.03j\n",
      "  -0.11-0.21j  0.72+0.1j ]]\n"
     ]
    }
   ],
   "source": [
    "def Precoder_Mat(channel_mat):\n",
    "    \"\"\"Given a wireless channel matrix, return zero-forcing precoder matrix.\n",
    "    'P = H^\\dagger (HH^\\dagger)^{-1}'\n",
    "    \n",
    "    TODO: consider only the reduced, but then match dims with other functions.\"\"\"\n",
    "    \n",
    "    channel_mat_h = channel_mat.conj().T\n",
    "    \n",
    "    Ueig_inv = np.linalg.inv(channel_mat @ channel_mat_h)\n",
    "    \n",
    "    P = channel_mat_h @ Ueig_inv\n",
    "    return P\n",
    "\n",
    "# Find out what that svd approx was\n",
    "def Precoder_Mat_svd(channel_mat):\n",
    "    \"\"\"Given a wireless channel matrix, return zero-forcing precoder matrix,\n",
    "    approximated by SVD.\n",
    "    \n",
    "    TODO: consider only the reduced, but then match dims with other functions.\"\"\"\n",
    "    \n",
    "    D = np.zeros(channel_mat.shape)\n",
    "    \n",
    "    U, s, Vh = np.linalg.svd(channel_mat)\n",
    "    \n",
    "    for i in range(len(s)):\n",
    "        D[i,i] = s[i]\n",
    "    \n",
    "    Uh = U.conj().T\n",
    "    V = Vh.conj().T\n",
    "    \n",
    "    HHh_inv = np.linalg.inv(U @ D @ D.T @ Uh)\n",
    "    \n",
    "    print(np.around(HHh_inv, decimals=2), '\\n')\n",
    "    \n",
    "    P = V @ D.T @ Uh @ HHh_inv\n",
    "    \n",
    "    return U, D, Vh, P\n",
    "\n",
    "U, D, Vh, A = Precoder_Mat_svd(H)\n",
    "\n",
    "P = Precoder_Mat(H)\n",
    "\n",
    "print(np.around(P,decimals=2),'\\n')\n",
    "\n",
    "\n",
    "print(np.around(U, decimals=2), '\\n', np.around(D,decimals=2), '\\n', np.around(Vh,decimals=2))"
   ]
  },
  {
   "cell_type": "code",
   "execution_count": 33,
   "id": "serious-specific",
   "metadata": {
    "scrolled": true
   },
   "outputs": [
    {
     "data": {
      "text/plain": [
       "array([[1, 0, 0, 0, 1, 0, 1, 0, 0, 1],\n",
       "       [0, 1, 0, 0, 0, 1, 1, 0, 0, 0]])"
      ]
     },
     "execution_count": 33,
     "metadata": {},
     "output_type": "execute_result"
    }
   ],
   "source": [
    "def Random_bit_string(length, layers):\n",
    "    bits = np.random.binomial(n=1, p=0.5, size=(layers, length))\n",
    "    return bits\n",
    "\n",
    "def Modulate_bits():\n",
    "    \"\"\" DO LATER\"\"\"\n",
    "    s= []\n",
    "    return s\n",
    "\n",
    "\n",
    "Random_bit_string(10, 2)"
   ]
  },
  {
   "cell_type": "code",
   "execution_count": 34,
   "id": "nuclear-payment",
   "metadata": {},
   "outputs": [],
   "source": [
    "def QAM(size):\n",
    "    \"\"\"QAM modulation dictionaries\"\"\"\n",
    "    \n",
    "    size = int(size)\n",
    "    \n",
    "    mapping_table_2 = {\n",
    "        (0) : -1,\n",
    "        (1) : +1\n",
    "    }\n",
    "    \n",
    "    mapping_table_4 = {\n",
    "        (0,0) : -1-1J,\n",
    "        (0,1) : -1+1J,\n",
    "        (1,1) : 1+1J,\n",
    "        (1,0) : 1-1J\n",
    "    }\n",
    "    \n",
    "    mapping_table_16 = {\n",
    "        (0,0,0,0) : -3-3j,\n",
    "        (0,0,0,1) : -3-1j,\n",
    "        (0,0,1,0) : -3+3j,\n",
    "        (0,0,1,1) : -3+1j,\n",
    "        (0,1,0,0) : -1-3j,\n",
    "        (0,1,0,1) : -1-1j,\n",
    "        (0,1,1,0) : -1+3j,\n",
    "        (0,1,1,1) : -1+1j,\n",
    "        (1,0,0,0) :  3-3j,\n",
    "        (1,0,0,1) :  3-1j,\n",
    "        (1,0,1,0) :  3+3j,\n",
    "        (1,0,1,1) :  3+1j,\n",
    "        (1,1,0,0) :  1-3j,\n",
    "        (1,1,0,1) :  1-1j,\n",
    "        (1,1,1,0) :  1+3j,\n",
    "        (1,1,1,1) :  1+1j\n",
    "    }\n",
    "    \n",
    "#     ADD:\n",
    "#     mapping_table_64 = {\n",
    "        \n",
    "#     }\n",
    "    \n",
    "    get = {\n",
    "        2 : mapping_table_2,\n",
    "        4 : mapping_table_4,\n",
    "        16 : mapping_table_16\n",
    "    }\n",
    "    \n",
    "    return get[size]"
   ]
  },
  {
   "cell_type": "code",
   "execution_count": 39,
   "id": "ranking-tension",
   "metadata": {},
   "outputs": [
    {
     "name": "stdout",
     "output_type": "stream",
     "text": [
      "(-3-3j)\n"
     ]
    }
   ],
   "source": []
  },
  {
   "cell_type": "code",
   "execution_count": 49,
   "id": "otherwise-concern",
   "metadata": {},
   "outputs": [
    {
     "name": "stdout",
     "output_type": "stream",
     "text": [
      "[[ 0.16-0.j   -0.06+0.04j -0.02-0.09j -0.06+0.01j]\n",
      " [-0.06-0.04j  0.15-0.j   -0.08+0.07j -0.03-0.01j]\n",
      " [-0.02+0.09j -0.08-0.07j  0.27+0.j   -0.1 -0.03j]\n",
      " [-0.06-0.01j -0.03+0.01j -0.1 +0.03j  0.17+0.j  ]] \n",
      "\n",
      "[[ 0.16-0.j   -0.06+0.04j -0.02-0.09j -0.06+0.01j]\n",
      " [-0.06-0.04j  0.15-0.j   -0.08+0.07j -0.03-0.01j]\n",
      " [-0.02+0.09j -0.08-0.07j  0.27-0.j   -0.1 -0.03j]\n",
      " [-0.06-0.01j -0.03+0.01j -0.1 +0.03j  0.17-0.j  ]]\n"
     ]
    },
    {
     "data": {
      "text/plain": [
       "array([[ True,  True,  True,  True],\n",
       "       [ True,  True,  True,  True],\n",
       "       [ True,  True,  True,  True],\n",
       "       [ True,  True,  True,  True]])"
      ]
     },
     "execution_count": 49,
     "metadata": {},
     "output_type": "execute_result"
    }
   ],
   "source": [
    "A = np.linalg.inv(H @ H.conj().T).conj().T @ H @ H.conj().T @ np.linalg.inv(H @ H.conj().T)\n",
    "\n",
    "print(np.around(A,decimals=2), '\\n')\n",
    "\n",
    "print(np.around(np.linalg.inv(H@H.conj().T),decimals=2))\n",
    "\n",
    "np.around(A,decimals=2) == np.around(np.linalg.inv(H@H.conj().T),decimals=2)\n"
   ]
  },
  {
   "cell_type": "code",
   "execution_count": 62,
   "id": "welcome-ethernet",
   "metadata": {},
   "outputs": [
    {
     "name": "stdout",
     "output_type": "stream",
     "text": [
      "[-5. -4. -3. -2. -1.]\n"
     ]
    },
    {
     "data": {
      "text/plain": [
       "0.96875"
      ]
     },
     "execution_count": 62,
     "metadata": {},
     "output_type": "execute_result"
    }
   ],
   "source": [
    "power = np.linspace(-5,-1, 5)\n",
    "print(power)\n",
    "np.sum(2**power)\n"
   ]
  },
  {
   "cell_type": "code",
   "execution_count": 58,
   "id": "passive-colorado",
   "metadata": {},
   "outputs": [
    {
     "data": {
      "text/plain": [
       "0.5000000000000001"
      ]
     },
     "execution_count": 58,
     "metadata": {},
     "output_type": "execute_result"
    }
   ],
   "source": [
    "np.log2(np.sqrt(2))"
   ]
  },
  {
   "cell_type": "code",
   "execution_count": 63,
   "id": "convenient-things",
   "metadata": {},
   "outputs": [
    {
     "name": "stdout",
     "output_type": "stream",
     "text": [
      "[0.97958846 0.79244067 0.17011693 0.48545375 0.440497   0.75275675\n",
      " 0.91765698 0.21951442 0.583396   0.11520599]\n"
     ]
    }
   ],
   "source": [
    "vec = np.random.rand(10)\n",
    "print(vec)"
   ]
  },
  {
   "cell_type": "code",
   "execution_count": null,
   "id": "protective-former",
   "metadata": {},
   "outputs": [],
   "source": []
  }
 ],
 "metadata": {
  "kernelspec": {
   "display_name": "Python 3",
   "language": "python",
   "name": "python3"
  },
  "language_info": {
   "codemirror_mode": {
    "name": "ipython",
    "version": 3
   },
   "file_extension": ".py",
   "mimetype": "text/x-python",
   "name": "python",
   "nbconvert_exporter": "python",
   "pygments_lexer": "ipython3",
   "version": "3.8.5"
  }
 },
 "nbformat": 4,
 "nbformat_minor": 5
}
